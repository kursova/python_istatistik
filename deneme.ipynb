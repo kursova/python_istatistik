{
 "cells": [
  {
   "cell_type": "code",
   "execution_count": 1,
   "id": "b0351244",
   "metadata": {
    "_cell_guid": "b1076dfc-b9ad-4769-8c92-a6c4dae69d19",
    "_uuid": "8f2839f25d086af736a60e9eeb907d3b93b6e0e5",
    "execution": {
     "iopub.execute_input": "2024-08-03T06:17:51.087604Z",
     "iopub.status.busy": "2024-08-03T06:17:51.087195Z",
     "iopub.status.idle": "2024-08-03T06:17:52.045635Z",
     "shell.execute_reply": "2024-08-03T06:17:52.044381Z"
    },
    "papermill": {
     "duration": 0.96607,
     "end_time": "2024-08-03T06:17:52.048567",
     "exception": false,
     "start_time": "2024-08-03T06:17:51.082497",
     "status": "completed"
    },
    "tags": []
   },
   "outputs": [],
   "source": [
    "# This Python 3 environment comes with many helpful analytics libraries installed\n",
    "# It is defined by the kaggle/python Docker image: https://github.com/kaggle/docker-python\n",
    "# For example, here's several helpful packages to load\n",
    "\n",
    "import numpy as np # linear algebra\n",
    "import pandas as pd # data processing, CSV file I/O (e.g. pd.read_csv)\n",
    "\n",
    "# Input data files are available in the read-only \"../input/\" directory\n",
    "# For example, running this (by clicking run or pressing Shift+Enter) will list all files under the input directory\n",
    "\n",
    "import os\n",
    "for dirname, _, filenames in os.walk('/kaggle/input'):\n",
    "    for filename in filenames:\n",
    "        print(os.path.join(dirname, filename))\n",
    "\n",
    "# You can write up to 20GB to the current directory (/kaggle/working/) that gets preserved as output when you create a version using \"Save & Run All\" \n",
    "# You can also write temporary files to /kaggle/temp/, but they won't be saved outside of the current session"
   ]
  },
  {
   "cell_type": "code",
   "execution_count": 2,
   "id": "d8c3dc52",
   "metadata": {
    "execution": {
     "iopub.execute_input": "2024-08-03T06:17:52.055192Z",
     "iopub.status.busy": "2024-08-03T06:17:52.054663Z",
     "iopub.status.idle": "2024-08-03T06:17:52.059958Z",
     "shell.execute_reply": "2024-08-03T06:17:52.058854Z"
    },
    "papermill": {
     "duration": 0.011247,
     "end_time": "2024-08-03T06:17:52.062341",
     "exception": false,
     "start_time": "2024-08-03T06:17:52.051094",
     "status": "completed"
    },
    "tags": []
   },
   "outputs": [],
   "source": [
    "import numpy as np"
   ]
  },
  {
   "cell_type": "code",
   "execution_count": 3,
   "id": "a410e71f",
   "metadata": {
    "execution": {
     "iopub.execute_input": "2024-08-03T06:17:52.068507Z",
     "iopub.status.busy": "2024-08-03T06:17:52.068078Z",
     "iopub.status.idle": "2024-08-03T06:17:52.081748Z",
     "shell.execute_reply": "2024-08-03T06:17:52.080504Z"
    },
    "papermill": {
     "duration": 0.020017,
     "end_time": "2024-08-03T06:17:52.084611",
     "exception": false,
     "start_time": "2024-08-03T06:17:52.064594",
     "status": "completed"
    },
    "tags": []
   },
   "outputs": [
    {
     "data": {
      "text/plain": [
       "40.8"
      ]
     },
     "execution_count": 3,
     "metadata": {},
     "output_type": "execute_result"
    }
   ],
   "source": [
    "populasyon=np.random.randint(0,80,10000)\n",
    "populasyon[0:10]\n",
    "np.random.seed(10) #yapılacka işlemlerin her seferinde aynı sonucu vermesini sağlar\n",
    "orneklem=np.random.choice(a=populasyon, size=100) # populasyondan rasgele 100 değer seçip örneklem oluşturduk\n",
    "orneklem.mean() "
   ]
  }
 ],
 "metadata": {
  "kaggle": {
   "accelerator": "none",
   "dataSources": [],
   "isGpuEnabled": false,
   "isInternetEnabled": true,
   "language": "python",
   "sourceType": "notebook"
  },
  "kernelspec": {
   "display_name": "Python 3",
   "language": "python",
   "name": "python3"
  },
  "language_info": {
   "codemirror_mode": {
    "name": "ipython",
    "version": 3
   },
   "file_extension": ".py",
   "mimetype": "text/x-python",
   "name": "python",
   "nbconvert_exporter": "python",
   "pygments_lexer": "ipython3",
   "version": "3.10.13"
  },
  "papermill": {
   "default_parameters": {},
   "duration": 4.622936,
   "end_time": "2024-08-03T06:17:52.608721",
   "environment_variables": {},
   "exception": null,
   "input_path": "__notebook__.ipynb",
   "output_path": "__notebook__.ipynb",
   "parameters": {},
   "start_time": "2024-08-03T06:17:47.985785",
   "version": "2.5.0"
  }
 },
 "nbformat": 4,
 "nbformat_minor": 5
}
