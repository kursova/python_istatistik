{
 "cells": [
  {
   "cell_type": "code",
   "execution_count": 1,
   "id": "4e0dcd9e",
   "metadata": {
    "_cell_guid": "b1076dfc-b9ad-4769-8c92-a6c4dae69d19",
    "_uuid": "8f2839f25d086af736a60e9eeb907d3b93b6e0e5",
    "execution": {
     "iopub.execute_input": "2024-08-03T06:19:31.073554Z",
     "iopub.status.busy": "2024-08-03T06:19:31.073066Z",
     "iopub.status.idle": "2024-08-03T06:19:32.188845Z",
     "shell.execute_reply": "2024-08-03T06:19:32.187682Z"
    },
    "papermill": {
     "duration": 1.132988,
     "end_time": "2024-08-03T06:19:32.191979",
     "exception": false,
     "start_time": "2024-08-03T06:19:31.058991",
     "status": "completed"
    },
    "tags": []
   },
   "outputs": [],
   "source": [
    "# This Python 3 environment comes with many helpful analytics libraries installed\n",
    "# It is defined by the kaggle/python Docker image: https://github.com/kaggle/docker-python\n",
    "# For example, here's several helpful packages to load\n",
    "\n",
    "import numpy as np # linear algebra\n",
    "import pandas as pd # data processing, CSV file I/O (e.g. pd.read_csv)\n",
    "\n",
    "# Input data files are available in the read-only \"../input/\" directory\n",
    "# For example, running this (by clicking run or pressing Shift+Enter) will list all files under the input directory\n",
    "\n",
    "import os\n",
    "for dirname, _, filenames in os.walk('/kaggle/input'):\n",
    "    for filename in filenames:\n",
    "        print(os.path.join(dirname, filename))\n",
    "\n",
    "# You can write up to 20GB to the current directory (/kaggle/working/) that gets preserved as output when you create a version using \"Save & Run All\" \n",
    "# You can also write temporary files to /kaggle/temp/, but they won't be saved outside of the current session"
   ]
  },
  {
   "cell_type": "code",
   "execution_count": 2,
   "id": "17a163c4",
   "metadata": {
    "execution": {
     "iopub.execute_input": "2024-08-03T06:19:32.217274Z",
     "iopub.status.busy": "2024-08-03T06:19:32.216759Z",
     "iopub.status.idle": "2024-08-03T06:19:32.222542Z",
     "shell.execute_reply": "2024-08-03T06:19:32.221101Z"
    },
    "papermill": {
     "duration": 0.021584,
     "end_time": "2024-08-03T06:19:32.225257",
     "exception": false,
     "start_time": "2024-08-03T06:19:32.203673",
     "status": "completed"
    },
    "tags": []
   },
   "outputs": [],
   "source": [
    "import numpy as np"
   ]
  },
  {
   "cell_type": "code",
   "execution_count": 3,
   "id": "5f164dfc",
   "metadata": {
    "execution": {
     "iopub.execute_input": "2024-08-03T06:19:32.251319Z",
     "iopub.status.busy": "2024-08-03T06:19:32.249875Z",
     "iopub.status.idle": "2024-08-03T06:19:32.263771Z",
     "shell.execute_reply": "2024-08-03T06:19:32.262589Z"
    },
    "papermill": {
     "duration": 0.02924,
     "end_time": "2024-08-03T06:19:32.266451",
     "exception": false,
     "start_time": "2024-08-03T06:19:32.237211",
     "status": "completed"
    },
    "tags": []
   },
   "outputs": [
    {
     "data": {
      "text/plain": [
       "39.58"
      ]
     },
     "execution_count": 3,
     "metadata": {},
     "output_type": "execute_result"
    }
   ],
   "source": [
    "populasyon=np.random.randint(0,80,10000)\n",
    "populasyon[0:10]\n",
    "np.random.seed(10) #yapılacka işlemlerin her seferinde aynı sonucu vermesini sağlar\n",
    "orneklem=np.random.choice(a=populasyon, size=100) # populasyondan rasgele 100 değer seçip örneklem oluşturduk\n",
    "orneklem.mean() "
   ]
  },
  {
   "cell_type": "markdown",
   "id": "e7b71925",
   "metadata": {
    "papermill": {
     "duration": 0.011017,
     "end_time": "2024-08-03T06:19:32.289099",
     "exception": false,
     "start_time": "2024-08-03T06:19:32.278082",
     "status": "completed"
    },
    "tags": []
   },
   "source": [
    "**Betimsel istatistikler**"
   ]
  },
  {
   "cell_type": "code",
   "execution_count": 4,
   "id": "352ae51d",
   "metadata": {
    "execution": {
     "iopub.execute_input": "2024-08-03T06:19:32.313966Z",
     "iopub.status.busy": "2024-08-03T06:19:32.313525Z",
     "iopub.status.idle": "2024-08-03T06:19:32.319708Z",
     "shell.execute_reply": "2024-08-03T06:19:32.318112Z"
    },
    "papermill": {
     "duration": 0.021822,
     "end_time": "2024-08-03T06:19:32.322522",
     "exception": false,
     "start_time": "2024-08-03T06:19:32.300700",
     "status": "completed"
    },
    "tags": []
   },
   "outputs": [],
   "source": [
    "#örneklem dağılımı ise : yukarıdaki gibi populasyon içerisindne 10 tane daha örneklem çektiğimizi ve bunların hepsinin hem kendi içinde hem de tamamının ortalamasını\n",
    "#aldığımızda populasyona yaklaşacaktır. buna merkezi limit teoremi denir. merkezi limit teoremine göre başlangıçtaki değişkenin dağılımı ne olursa olsun yaklaşık olarak normal \n",
    "#dağılıma yansır. \n",
    "\n",
    "#varyans: ortalama etrafındaki dağılımın ölçüsü\n",
    "#kovaryans: iki değişken arasındaki ilişkinin değişkenlik ölçüsü\n",
    "#korelasyon: iki değişken arasındaki ilişkiyi, ilişkinin anlamlı olup olmadığını, ilişkinin şiddetibi ve yönünü ifade eden istatistiksel bir tekniktir. "
   ]
  },
  {
   "cell_type": "code",
   "execution_count": 5,
   "id": "9d9c6f9c",
   "metadata": {
    "execution": {
     "iopub.execute_input": "2024-08-03T06:19:32.347675Z",
     "iopub.status.busy": "2024-08-03T06:19:32.347180Z",
     "iopub.status.idle": "2024-08-03T06:19:34.520772Z",
     "shell.execute_reply": "2024-08-03T06:19:34.519380Z"
    },
    "papermill": {
     "duration": 2.189498,
     "end_time": "2024-08-03T06:19:34.523678",
     "exception": false,
     "start_time": "2024-08-03T06:19:32.334180",
     "status": "completed"
    },
    "tags": []
   },
   "outputs": [
    {
     "data": {
      "text/html": [
       "<div>\n",
       "<style scoped>\n",
       "    .dataframe tbody tr th:only-of-type {\n",
       "        vertical-align: middle;\n",
       "    }\n",
       "\n",
       "    .dataframe tbody tr th {\n",
       "        vertical-align: top;\n",
       "    }\n",
       "\n",
       "    .dataframe thead th {\n",
       "        text-align: right;\n",
       "    }\n",
       "</style>\n",
       "<table border=\"1\" class=\"dataframe\">\n",
       "  <thead>\n",
       "    <tr style=\"text-align: right;\">\n",
       "      <th></th>\n",
       "      <th>total_bill</th>\n",
       "      <th>tip</th>\n",
       "      <th>sex</th>\n",
       "      <th>smoker</th>\n",
       "      <th>day</th>\n",
       "      <th>time</th>\n",
       "      <th>size</th>\n",
       "    </tr>\n",
       "  </thead>\n",
       "  <tbody>\n",
       "    <tr>\n",
       "      <th>0</th>\n",
       "      <td>16.99</td>\n",
       "      <td>1.01</td>\n",
       "      <td>Female</td>\n",
       "      <td>No</td>\n",
       "      <td>Sun</td>\n",
       "      <td>Dinner</td>\n",
       "      <td>2</td>\n",
       "    </tr>\n",
       "    <tr>\n",
       "      <th>1</th>\n",
       "      <td>10.34</td>\n",
       "      <td>1.66</td>\n",
       "      <td>Male</td>\n",
       "      <td>No</td>\n",
       "      <td>Sun</td>\n",
       "      <td>Dinner</td>\n",
       "      <td>3</td>\n",
       "    </tr>\n",
       "    <tr>\n",
       "      <th>2</th>\n",
       "      <td>21.01</td>\n",
       "      <td>3.50</td>\n",
       "      <td>Male</td>\n",
       "      <td>No</td>\n",
       "      <td>Sun</td>\n",
       "      <td>Dinner</td>\n",
       "      <td>3</td>\n",
       "    </tr>\n",
       "    <tr>\n",
       "      <th>3</th>\n",
       "      <td>23.68</td>\n",
       "      <td>3.31</td>\n",
       "      <td>Male</td>\n",
       "      <td>No</td>\n",
       "      <td>Sun</td>\n",
       "      <td>Dinner</td>\n",
       "      <td>2</td>\n",
       "    </tr>\n",
       "    <tr>\n",
       "      <th>4</th>\n",
       "      <td>24.59</td>\n",
       "      <td>3.61</td>\n",
       "      <td>Female</td>\n",
       "      <td>No</td>\n",
       "      <td>Sun</td>\n",
       "      <td>Dinner</td>\n",
       "      <td>4</td>\n",
       "    </tr>\n",
       "  </tbody>\n",
       "</table>\n",
       "</div>"
      ],
      "text/plain": [
       "   total_bill   tip     sex smoker  day    time  size\n",
       "0       16.99  1.01  Female     No  Sun  Dinner     2\n",
       "1       10.34  1.66    Male     No  Sun  Dinner     3\n",
       "2       21.01  3.50    Male     No  Sun  Dinner     3\n",
       "3       23.68  3.31    Male     No  Sun  Dinner     2\n",
       "4       24.59  3.61  Female     No  Sun  Dinner     4"
      ]
     },
     "execution_count": 5,
     "metadata": {},
     "output_type": "execute_result"
    }
   ],
   "source": [
    "import seaborn as sns \n",
    "tips=sns.load_dataset(\"tips\")\n",
    "df=tips.copy()\n",
    "tips.head()"
   ]
  },
  {
   "cell_type": "code",
   "execution_count": 6,
   "id": "6c48e742",
   "metadata": {
    "execution": {
     "iopub.execute_input": "2024-08-03T06:19:34.549470Z",
     "iopub.status.busy": "2024-08-03T06:19:34.548645Z",
     "iopub.status.idle": "2024-08-03T06:19:34.580147Z",
     "shell.execute_reply": "2024-08-03T06:19:34.578960Z"
    },
    "papermill": {
     "duration": 0.047314,
     "end_time": "2024-08-03T06:19:34.582862",
     "exception": false,
     "start_time": "2024-08-03T06:19:34.535548",
     "status": "completed"
    },
    "tags": []
   },
   "outputs": [
    {
     "data": {
      "text/html": [
       "<div>\n",
       "<style scoped>\n",
       "    .dataframe tbody tr th:only-of-type {\n",
       "        vertical-align: middle;\n",
       "    }\n",
       "\n",
       "    .dataframe tbody tr th {\n",
       "        vertical-align: top;\n",
       "    }\n",
       "\n",
       "    .dataframe thead th {\n",
       "        text-align: right;\n",
       "    }\n",
       "</style>\n",
       "<table border=\"1\" class=\"dataframe\">\n",
       "  <thead>\n",
       "    <tr style=\"text-align: right;\">\n",
       "      <th></th>\n",
       "      <th>count</th>\n",
       "      <th>mean</th>\n",
       "      <th>std</th>\n",
       "      <th>min</th>\n",
       "      <th>25%</th>\n",
       "      <th>50%</th>\n",
       "      <th>75%</th>\n",
       "      <th>max</th>\n",
       "    </tr>\n",
       "  </thead>\n",
       "  <tbody>\n",
       "    <tr>\n",
       "      <th>total_bill</th>\n",
       "      <td>244.0</td>\n",
       "      <td>19.785943</td>\n",
       "      <td>8.902412</td>\n",
       "      <td>3.07</td>\n",
       "      <td>13.3475</td>\n",
       "      <td>17.795</td>\n",
       "      <td>24.1275</td>\n",
       "      <td>50.81</td>\n",
       "    </tr>\n",
       "    <tr>\n",
       "      <th>tip</th>\n",
       "      <td>244.0</td>\n",
       "      <td>2.998279</td>\n",
       "      <td>1.383638</td>\n",
       "      <td>1.00</td>\n",
       "      <td>2.0000</td>\n",
       "      <td>2.900</td>\n",
       "      <td>3.5625</td>\n",
       "      <td>10.00</td>\n",
       "    </tr>\n",
       "    <tr>\n",
       "      <th>size</th>\n",
       "      <td>244.0</td>\n",
       "      <td>2.569672</td>\n",
       "      <td>0.951100</td>\n",
       "      <td>1.00</td>\n",
       "      <td>2.0000</td>\n",
       "      <td>2.000</td>\n",
       "      <td>3.0000</td>\n",
       "      <td>6.00</td>\n",
       "    </tr>\n",
       "  </tbody>\n",
       "</table>\n",
       "</div>"
      ],
      "text/plain": [
       "            count       mean       std   min      25%     50%      75%    max\n",
       "total_bill  244.0  19.785943  8.902412  3.07  13.3475  17.795  24.1275  50.81\n",
       "tip         244.0   2.998279  1.383638  1.00   2.0000   2.900   3.5625  10.00\n",
       "size        244.0   2.569672  0.951100  1.00   2.0000   2.000   3.0000   6.00"
      ]
     },
     "execution_count": 6,
     "metadata": {},
     "output_type": "execute_result"
    }
   ],
   "source": [
    "df.describe().T"
   ]
  },
  {
   "cell_type": "code",
   "execution_count": 7,
   "id": "cab8b34a",
   "metadata": {
    "execution": {
     "iopub.execute_input": "2024-08-03T06:19:34.610263Z",
     "iopub.status.busy": "2024-08-03T06:19:34.609799Z",
     "iopub.status.idle": "2024-08-03T06:19:51.887215Z",
     "shell.execute_reply": "2024-08-03T06:19:51.885569Z"
    },
    "papermill": {
     "duration": 17.293998,
     "end_time": "2024-08-03T06:19:51.890495",
     "exception": false,
     "start_time": "2024-08-03T06:19:34.596497",
     "status": "completed"
    },
    "tags": []
   },
   "outputs": [
    {
     "name": "stdout",
     "output_type": "stream",
     "text": [
      "Collecting researchpy\r\n",
      "  Downloading researchpy-0.3.6-py3-none-any.whl.metadata (1.2 kB)\r\n",
      "Requirement already satisfied: scipy in /opt/conda/lib/python3.10/site-packages (from researchpy) (1.11.4)\r\n",
      "Requirement already satisfied: numpy in /opt/conda/lib/python3.10/site-packages (from researchpy) (1.26.4)\r\n",
      "Requirement already satisfied: pandas in /opt/conda/lib/python3.10/site-packages (from researchpy) (2.2.2)\r\n",
      "Requirement already satisfied: statsmodels in /opt/conda/lib/python3.10/site-packages (from researchpy) (0.14.1)\r\n",
      "Requirement already satisfied: patsy in /opt/conda/lib/python3.10/site-packages (from researchpy) (0.5.6)\r\n",
      "Requirement already satisfied: python-dateutil>=2.8.2 in /opt/conda/lib/python3.10/site-packages (from pandas->researchpy) (2.9.0.post0)\r\n",
      "Requirement already satisfied: pytz>=2020.1 in /opt/conda/lib/python3.10/site-packages (from pandas->researchpy) (2023.3.post1)\r\n",
      "Requirement already satisfied: tzdata>=2022.7 in /opt/conda/lib/python3.10/site-packages (from pandas->researchpy) (2023.4)\r\n",
      "Requirement already satisfied: six in /opt/conda/lib/python3.10/site-packages (from patsy->researchpy) (1.16.0)\r\n",
      "Requirement already satisfied: packaging>=21.3 in /opt/conda/lib/python3.10/site-packages (from statsmodels->researchpy) (21.3)\r\n",
      "Requirement already satisfied: pyparsing!=3.0.5,>=2.0.2 in /opt/conda/lib/python3.10/site-packages (from packaging>=21.3->statsmodels->researchpy) (3.1.1)\r\n",
      "Downloading researchpy-0.3.6-py3-none-any.whl (34 kB)\r\n",
      "Installing collected packages: researchpy\r\n",
      "Successfully installed researchpy-0.3.6\r\n"
     ]
    }
   ],
   "source": [
    "!pip install researchpy\n",
    "import researchpy as rp # bu kütüphanede de betimsel istatistik için kullanacağımız kodlar var. describe işlemine göre daha detaylı olduğu için bunu indirdik."
   ]
  },
  {
   "cell_type": "code",
   "execution_count": 8,
   "id": "86c8c9aa",
   "metadata": {
    "execution": {
     "iopub.execute_input": "2024-08-03T06:19:51.918712Z",
     "iopub.status.busy": "2024-08-03T06:19:51.918269Z",
     "iopub.status.idle": "2024-08-03T06:19:51.966006Z",
     "shell.execute_reply": "2024-08-03T06:19:51.964624Z"
    },
    "papermill": {
     "duration": 0.066952,
     "end_time": "2024-08-03T06:19:51.970727",
     "exception": false,
     "start_time": "2024-08-03T06:19:51.903775",
     "status": "completed"
    },
    "tags": []
   },
   "outputs": [
    {
     "name": "stdout",
     "output_type": "stream",
     "text": [
      "\n",
      "\n"
     ]
    },
    {
     "name": "stderr",
     "output_type": "stream",
     "text": [
      "/opt/conda/lib/python3.10/site-packages/researchpy/summary.py:102: FutureWarning: Setting an item of incompatible dtype is deprecated and will raise an error in a future version of pandas. Value 'total_bill' has dtype incompatible with float64, please explicitly cast to a compatible dtype first.\n",
      "  table_a.iloc[0,0] = ix\n",
      "/opt/conda/lib/python3.10/site-packages/researchpy/summary.py:102: FutureWarning: Setting an item of incompatible dtype is deprecated and will raise an error in a future version of pandas. Value 'tip' has dtype incompatible with float64, please explicitly cast to a compatible dtype first.\n",
      "  table_a.iloc[0,0] = ix\n",
      "/opt/conda/lib/python3.10/site-packages/researchpy/summary.py:102: FutureWarning: Setting an item of incompatible dtype is deprecated and will raise an error in a future version of pandas. Value 'size' has dtype incompatible with float64, please explicitly cast to a compatible dtype first.\n",
      "  table_a.iloc[0,0] = ix\n"
     ]
    },
    {
     "data": {
      "text/html": [
       "<div>\n",
       "<style scoped>\n",
       "    .dataframe tbody tr th:only-of-type {\n",
       "        vertical-align: middle;\n",
       "    }\n",
       "\n",
       "    .dataframe tbody tr th {\n",
       "        vertical-align: top;\n",
       "    }\n",
       "\n",
       "    .dataframe thead th {\n",
       "        text-align: right;\n",
       "    }\n",
       "</style>\n",
       "<table border=\"1\" class=\"dataframe\">\n",
       "  <thead>\n",
       "    <tr style=\"text-align: right;\">\n",
       "      <th></th>\n",
       "      <th>Variable</th>\n",
       "      <th>N</th>\n",
       "      <th>Mean</th>\n",
       "      <th>SD</th>\n",
       "      <th>SE</th>\n",
       "      <th>95% Conf.</th>\n",
       "      <th>Interval</th>\n",
       "    </tr>\n",
       "  </thead>\n",
       "  <tbody>\n",
       "    <tr>\n",
       "      <th>0</th>\n",
       "      <td>total_bill</td>\n",
       "      <td>244.0</td>\n",
       "      <td>19.7859</td>\n",
       "      <td>8.9024</td>\n",
       "      <td>0.5699</td>\n",
       "      <td>18.6633</td>\n",
       "      <td>20.9086</td>\n",
       "    </tr>\n",
       "    <tr>\n",
       "      <th>1</th>\n",
       "      <td>tip</td>\n",
       "      <td>244.0</td>\n",
       "      <td>2.9983</td>\n",
       "      <td>1.3836</td>\n",
       "      <td>0.0886</td>\n",
       "      <td>2.8238</td>\n",
       "      <td>3.1728</td>\n",
       "    </tr>\n",
       "    <tr>\n",
       "      <th>2</th>\n",
       "      <td>size</td>\n",
       "      <td>244.0</td>\n",
       "      <td>2.5697</td>\n",
       "      <td>0.9511</td>\n",
       "      <td>0.0609</td>\n",
       "      <td>2.4497</td>\n",
       "      <td>2.6896</td>\n",
       "    </tr>\n",
       "  </tbody>\n",
       "</table>\n",
       "</div>"
      ],
      "text/plain": [
       "     Variable      N     Mean      SD      SE  95% Conf.  Interval\n",
       "0  total_bill  244.0  19.7859  8.9024  0.5699    18.6633   20.9086\n",
       "1         tip  244.0   2.9983  1.3836  0.0886     2.8238    3.1728\n",
       "2        size  244.0   2.5697  0.9511  0.0609     2.4497    2.6896"
      ]
     },
     "execution_count": 8,
     "metadata": {},
     "output_type": "execute_result"
    }
   ],
   "source": [
    "rp.summary_cont(df[[\"total_bill\", \"tip\", \"size\"]]) # sayısal değerler için çalıştırdık. sd, se güven aralığı gibi diğerinde olmayan bilgiler var"
   ]
  },
  {
   "cell_type": "code",
   "execution_count": 9,
   "id": "aac56848",
   "metadata": {
    "execution": {
     "iopub.execute_input": "2024-08-03T06:19:51.999307Z",
     "iopub.status.busy": "2024-08-03T06:19:51.998463Z",
     "iopub.status.idle": "2024-08-03T06:19:52.035566Z",
     "shell.execute_reply": "2024-08-03T06:19:52.034424Z"
    },
    "papermill": {
     "duration": 0.05433,
     "end_time": "2024-08-03T06:19:52.038284",
     "exception": false,
     "start_time": "2024-08-03T06:19:51.983954",
     "status": "completed"
    },
    "tags": []
   },
   "outputs": [
    {
     "data": {
      "text/html": [
       "<div>\n",
       "<style scoped>\n",
       "    .dataframe tbody tr th:only-of-type {\n",
       "        vertical-align: middle;\n",
       "    }\n",
       "\n",
       "    .dataframe tbody tr th {\n",
       "        vertical-align: top;\n",
       "    }\n",
       "\n",
       "    .dataframe thead th {\n",
       "        text-align: right;\n",
       "    }\n",
       "</style>\n",
       "<table border=\"1\" class=\"dataframe\">\n",
       "  <thead>\n",
       "    <tr style=\"text-align: right;\">\n",
       "      <th></th>\n",
       "      <th>Variable</th>\n",
       "      <th>Outcome</th>\n",
       "      <th>Count</th>\n",
       "      <th>Percent</th>\n",
       "    </tr>\n",
       "  </thead>\n",
       "  <tbody>\n",
       "    <tr>\n",
       "      <th>0</th>\n",
       "      <td>sex</td>\n",
       "      <td>Male</td>\n",
       "      <td>157</td>\n",
       "      <td>64.34</td>\n",
       "    </tr>\n",
       "    <tr>\n",
       "      <th>1</th>\n",
       "      <td></td>\n",
       "      <td>Female</td>\n",
       "      <td>87</td>\n",
       "      <td>35.66</td>\n",
       "    </tr>\n",
       "    <tr>\n",
       "      <th>2</th>\n",
       "      <td>smoker</td>\n",
       "      <td>No</td>\n",
       "      <td>151</td>\n",
       "      <td>61.89</td>\n",
       "    </tr>\n",
       "    <tr>\n",
       "      <th>3</th>\n",
       "      <td></td>\n",
       "      <td>Yes</td>\n",
       "      <td>93</td>\n",
       "      <td>38.11</td>\n",
       "    </tr>\n",
       "    <tr>\n",
       "      <th>4</th>\n",
       "      <td>day</td>\n",
       "      <td>Sat</td>\n",
       "      <td>87</td>\n",
       "      <td>35.66</td>\n",
       "    </tr>\n",
       "    <tr>\n",
       "      <th>5</th>\n",
       "      <td></td>\n",
       "      <td>Sun</td>\n",
       "      <td>76</td>\n",
       "      <td>31.15</td>\n",
       "    </tr>\n",
       "    <tr>\n",
       "      <th>6</th>\n",
       "      <td></td>\n",
       "      <td>Thur</td>\n",
       "      <td>62</td>\n",
       "      <td>25.41</td>\n",
       "    </tr>\n",
       "    <tr>\n",
       "      <th>7</th>\n",
       "      <td></td>\n",
       "      <td>Fri</td>\n",
       "      <td>19</td>\n",
       "      <td>7.79</td>\n",
       "    </tr>\n",
       "  </tbody>\n",
       "</table>\n",
       "</div>"
      ],
      "text/plain": [
       "  Variable Outcome  Count  Percent\n",
       "0      sex    Male    157    64.34\n",
       "1           Female     87    35.66\n",
       "2   smoker      No    151    61.89\n",
       "3              Yes     93    38.11\n",
       "4      day     Sat     87    35.66\n",
       "5              Sun     76    31.15\n",
       "6             Thur     62    25.41\n",
       "7              Fri     19     7.79"
      ]
     },
     "execution_count": 9,
     "metadata": {},
     "output_type": "execute_result"
    }
   ],
   "source": [
    "rp.summary_cat(df[[\"sex\", \"smoker\", \"day\"]]) # bunlar da kategorik değişkenler "
   ]
  },
  {
   "cell_type": "code",
   "execution_count": 10,
   "id": "e8bd1586",
   "metadata": {
    "execution": {
     "iopub.execute_input": "2024-08-03T06:19:52.068233Z",
     "iopub.status.busy": "2024-08-03T06:19:52.067793Z",
     "iopub.status.idle": "2024-08-03T06:19:52.084427Z",
     "shell.execute_reply": "2024-08-03T06:19:52.083136Z"
    },
    "papermill": {
     "duration": 0.035301,
     "end_time": "2024-08-03T06:19:52.087305",
     "exception": false,
     "start_time": "2024-08-03T06:19:52.052004",
     "status": "completed"
    },
    "tags": []
   },
   "outputs": [
    {
     "data": {
      "text/html": [
       "<div>\n",
       "<style scoped>\n",
       "    .dataframe tbody tr th:only-of-type {\n",
       "        vertical-align: middle;\n",
       "    }\n",
       "\n",
       "    .dataframe tbody tr th {\n",
       "        vertical-align: top;\n",
       "    }\n",
       "\n",
       "    .dataframe thead th {\n",
       "        text-align: right;\n",
       "    }\n",
       "</style>\n",
       "<table border=\"1\" class=\"dataframe\">\n",
       "  <thead>\n",
       "    <tr style=\"text-align: right;\">\n",
       "      <th></th>\n",
       "      <th>tip</th>\n",
       "      <th>total_bill</th>\n",
       "    </tr>\n",
       "  </thead>\n",
       "  <tbody>\n",
       "    <tr>\n",
       "      <th>tip</th>\n",
       "      <td>1.914455</td>\n",
       "      <td>8.323502</td>\n",
       "    </tr>\n",
       "    <tr>\n",
       "      <th>total_bill</th>\n",
       "      <td>8.323502</td>\n",
       "      <td>79.252939</td>\n",
       "    </tr>\n",
       "  </tbody>\n",
       "</table>\n",
       "</div>"
      ],
      "text/plain": [
       "                 tip  total_bill\n",
       "tip         1.914455    8.323502\n",
       "total_bill  8.323502   79.252939"
      ]
     },
     "execution_count": 10,
     "metadata": {},
     "output_type": "execute_result"
    }
   ],
   "source": [
    "df[[\"tip\", \"total_bill\"]].cov() #kovaryans -- aralarında pozitif bir ilişki var"
   ]
  },
  {
   "cell_type": "code",
   "execution_count": 11,
   "id": "6a1f37c8",
   "metadata": {
    "execution": {
     "iopub.execute_input": "2024-08-03T06:19:52.117439Z",
     "iopub.status.busy": "2024-08-03T06:19:52.116924Z",
     "iopub.status.idle": "2024-08-03T06:19:52.131843Z",
     "shell.execute_reply": "2024-08-03T06:19:52.130546Z"
    },
    "papermill": {
     "duration": 0.03343,
     "end_time": "2024-08-03T06:19:52.134580",
     "exception": false,
     "start_time": "2024-08-03T06:19:52.101150",
     "status": "completed"
    },
    "tags": []
   },
   "outputs": [
    {
     "data": {
      "text/html": [
       "<div>\n",
       "<style scoped>\n",
       "    .dataframe tbody tr th:only-of-type {\n",
       "        vertical-align: middle;\n",
       "    }\n",
       "\n",
       "    .dataframe tbody tr th {\n",
       "        vertical-align: top;\n",
       "    }\n",
       "\n",
       "    .dataframe thead th {\n",
       "        text-align: right;\n",
       "    }\n",
       "</style>\n",
       "<table border=\"1\" class=\"dataframe\">\n",
       "  <thead>\n",
       "    <tr style=\"text-align: right;\">\n",
       "      <th></th>\n",
       "      <th>tip</th>\n",
       "      <th>total_bill</th>\n",
       "    </tr>\n",
       "  </thead>\n",
       "  <tbody>\n",
       "    <tr>\n",
       "      <th>tip</th>\n",
       "      <td>1.000000</td>\n",
       "      <td>0.675734</td>\n",
       "    </tr>\n",
       "    <tr>\n",
       "      <th>total_bill</th>\n",
       "      <td>0.675734</td>\n",
       "      <td>1.000000</td>\n",
       "    </tr>\n",
       "  </tbody>\n",
       "</table>\n",
       "</div>"
      ],
      "text/plain": [
       "                 tip  total_bill\n",
       "tip         1.000000    0.675734\n",
       "total_bill  0.675734    1.000000"
      ]
     },
     "execution_count": 11,
     "metadata": {},
     "output_type": "execute_result"
    }
   ],
   "source": [
    "df[[\"tip\", \"total_bill\"]].corr() #korelasyon aralarındaki ilişkinin şiddeti diyebiliriz sanırım (yi ne de ayrıca bir bak)"
   ]
  },
  {
   "cell_type": "code",
   "execution_count": 12,
   "id": "b5405543",
   "metadata": {
    "execution": {
     "iopub.execute_input": "2024-08-03T06:19:52.166257Z",
     "iopub.status.busy": "2024-08-03T06:19:52.165872Z",
     "iopub.status.idle": "2024-08-03T06:19:52.172632Z",
     "shell.execute_reply": "2024-08-03T06:19:52.171379Z"
    },
    "papermill": {
     "duration": 0.026563,
     "end_time": "2024-08-03T06:19:52.175764",
     "exception": false,
     "start_time": "2024-08-03T06:19:52.149201",
     "status": "completed"
    },
    "tags": []
   },
   "outputs": [],
   "source": [
    "import numpy as np\n",
    "fiyatlar=np.random.randint(10,110,1000)"
   ]
  },
  {
   "cell_type": "code",
   "execution_count": 13,
   "id": "b1f0d0e8",
   "metadata": {
    "execution": {
     "iopub.execute_input": "2024-08-03T06:19:52.206170Z",
     "iopub.status.busy": "2024-08-03T06:19:52.205752Z",
     "iopub.status.idle": "2024-08-03T06:19:52.214460Z",
     "shell.execute_reply": "2024-08-03T06:19:52.213032Z"
    },
    "papermill": {
     "duration": 0.02692,
     "end_time": "2024-08-03T06:19:52.217296",
     "exception": false,
     "start_time": "2024-08-03T06:19:52.190376",
     "status": "completed"
    },
    "tags": []
   },
   "outputs": [
    {
     "data": {
      "text/plain": [
       "59.408"
      ]
     },
     "execution_count": 13,
     "metadata": {},
     "output_type": "execute_result"
    }
   ],
   "source": [
    "fiyatlar.mean()"
   ]
  },
  {
   "cell_type": "code",
   "execution_count": 14,
   "id": "3e40ee34",
   "metadata": {
    "execution": {
     "iopub.execute_input": "2024-08-03T06:19:52.248518Z",
     "iopub.status.busy": "2024-08-03T06:19:52.248071Z",
     "iopub.status.idle": "2024-08-03T06:19:52.685544Z",
     "shell.execute_reply": "2024-08-03T06:19:52.684344Z"
    },
    "papermill": {
     "duration": 0.456104,
     "end_time": "2024-08-03T06:19:52.688387",
     "exception": false,
     "start_time": "2024-08-03T06:19:52.232283",
     "status": "completed"
    },
    "tags": []
   },
   "outputs": [],
   "source": [
    "import statsmodels.stats.api as sms  #güven aralığı için indirmemiz gereken kütüphane "
   ]
  },
  {
   "cell_type": "code",
   "execution_count": 15,
   "id": "c92c2905",
   "metadata": {
    "execution": {
     "iopub.execute_input": "2024-08-03T06:19:52.719352Z",
     "iopub.status.busy": "2024-08-03T06:19:52.718417Z",
     "iopub.status.idle": "2024-08-03T06:19:52.726940Z",
     "shell.execute_reply": "2024-08-03T06:19:52.725760Z"
    },
    "papermill": {
     "duration": 0.026679,
     "end_time": "2024-08-03T06:19:52.729544",
     "exception": false,
     "start_time": "2024-08-03T06:19:52.702865",
     "status": "completed"
    },
    "tags": []
   },
   "outputs": [
    {
     "data": {
      "text/plain": [
       "(57.590281113644565, 61.22571888635544)"
      ]
     },
     "execution_count": 15,
     "metadata": {},
     "output_type": "execute_result"
    }
   ],
   "source": [
    "sms.DescrStatsW(fiyatlar).tconfint_mean() #satıcıların %95'inin satın alma aralığı tconfint_mean:ağırlıklı ortalama için \n",
    "#güven aralığını hesaplar "
   ]
  },
  {
   "cell_type": "code",
   "execution_count": 16,
   "id": "1e9b2878",
   "metadata": {
    "execution": {
     "iopub.execute_input": "2024-08-03T06:19:52.760763Z",
     "iopub.status.busy": "2024-08-03T06:19:52.760326Z",
     "iopub.status.idle": "2024-08-03T06:19:52.765578Z",
     "shell.execute_reply": "2024-08-03T06:19:52.764319Z"
    },
    "papermill": {
     "duration": 0.023953,
     "end_time": "2024-08-03T06:19:52.768197",
     "exception": false,
     "start_time": "2024-08-03T06:19:52.744244",
     "status": "completed"
    },
    "tags": []
   },
   "outputs": [],
   "source": [
    "#rassal değişken: değerlerini bir deneyin sonucundan alan değişkene denir. yazı tura buna örnek "
   ]
  },
  {
   "cell_type": "code",
   "execution_count": 17,
   "id": "4621d833",
   "metadata": {
    "execution": {
     "iopub.execute_input": "2024-08-03T06:19:52.798909Z",
     "iopub.status.busy": "2024-08-03T06:19:52.798474Z",
     "iopub.status.idle": "2024-08-03T06:19:52.803776Z",
     "shell.execute_reply": "2024-08-03T06:19:52.802620Z"
    },
    "papermill": {
     "duration": 0.024365,
     "end_time": "2024-08-03T06:19:52.806884",
     "exception": false,
     "start_time": "2024-08-03T06:19:52.782519",
     "status": "completed"
    },
    "tags": []
   },
   "outputs": [],
   "source": [
    "#bernoulli dağılımı: kesikli bir dağılımdır. 2 sonuçludur."
   ]
  },
  {
   "cell_type": "code",
   "execution_count": 18,
   "id": "fa3d5bac",
   "metadata": {
    "execution": {
     "iopub.execute_input": "2024-08-03T06:19:52.838514Z",
     "iopub.status.busy": "2024-08-03T06:19:52.837440Z",
     "iopub.status.idle": "2024-08-03T06:19:52.843139Z",
     "shell.execute_reply": "2024-08-03T06:19:52.841763Z"
    },
    "papermill": {
     "duration": 0.024619,
     "end_time": "2024-08-03T06:19:52.845857",
     "exception": false,
     "start_time": "2024-08-03T06:19:52.821238",
     "status": "completed"
    },
    "tags": []
   },
   "outputs": [],
   "source": [
    "from scipy.stats import bernoulli #olasılık işlemleri için scipy kütüphanesini kullanıyoruz. "
   ]
  },
  {
   "cell_type": "code",
   "execution_count": 19,
   "id": "91abd654",
   "metadata": {
    "execution": {
     "iopub.execute_input": "2024-08-03T06:19:52.877487Z",
     "iopub.status.busy": "2024-08-03T06:19:52.877032Z",
     "iopub.status.idle": "2024-08-03T06:19:52.882917Z",
     "shell.execute_reply": "2024-08-03T06:19:52.881624Z"
    },
    "papermill": {
     "duration": 0.025261,
     "end_time": "2024-08-03T06:19:52.885775",
     "exception": false,
     "start_time": "2024-08-03T06:19:52.860514",
     "status": "completed"
    },
    "tags": []
   },
   "outputs": [],
   "source": [
    "p=0.6 #yazı gelme olasılığı dersek"
   ]
  },
  {
   "cell_type": "code",
   "execution_count": 20,
   "id": "d78117c2",
   "metadata": {
    "execution": {
     "iopub.execute_input": "2024-08-03T06:19:52.918000Z",
     "iopub.status.busy": "2024-08-03T06:19:52.917557Z",
     "iopub.status.idle": "2024-08-03T06:19:52.930307Z",
     "shell.execute_reply": "2024-08-03T06:19:52.928668Z"
    },
    "papermill": {
     "duration": 0.032668,
     "end_time": "2024-08-03T06:19:52.933427",
     "exception": false,
     "start_time": "2024-08-03T06:19:52.900759",
     "status": "completed"
    },
    "tags": []
   },
   "outputs": [
    {
     "data": {
      "text/plain": [
       "0.4000000000000001"
      ]
     },
     "execution_count": 20,
     "metadata": {},
     "output_type": "execute_result"
    }
   ],
   "source": [
    "rv=bernoulli(p)\n",
    "rv.pmf(k=1)  #yazı gelme olasılığı pmf=probabilty mass function \n",
    "rv.pmf(k=0) #tura gelme olasılığı"
   ]
  },
  {
   "cell_type": "code",
   "execution_count": 21,
   "id": "602e5f98",
   "metadata": {
    "execution": {
     "iopub.execute_input": "2024-08-03T06:19:52.964991Z",
     "iopub.status.busy": "2024-08-03T06:19:52.964519Z",
     "iopub.status.idle": "2024-08-03T06:19:52.997684Z",
     "shell.execute_reply": "2024-08-03T06:19:52.996256Z"
    },
    "papermill": {
     "duration": 0.052634,
     "end_time": "2024-08-03T06:19:53.000859",
     "exception": false,
     "start_time": "2024-08-03T06:19:52.948225",
     "status": "completed"
    },
    "tags": []
   },
   "outputs": [
    {
     "name": "stdout",
     "output_type": "stream",
     "text": [
      "Atış Sayısı: 2 --- Yazı Olasılığı: 50.00\n",
      "Atış Sayısı: 4 --- Yazı Olasılığı: 0.00\n",
      "Atış Sayısı: 8 --- Yazı Olasılığı: 62.50\n",
      "Atış Sayısı: 16 --- Yazı Olasılığı: 43.75\n",
      "Atış Sayısı: 32 --- Yazı Olasılığı: 46.88\n",
      "Atış Sayısı: 64 --- Yazı Olasılığı: 56.25\n",
      "Atış Sayısı: 128 --- Yazı Olasılığı: 50.78\n",
      "Atış Sayısı: 256 --- Yazı Olasılığı: 52.73\n",
      "Atış Sayısı: 512 --- Yazı Olasılığı: 52.93\n",
      "Atış Sayısı: 1024 --- Yazı Olasılığı: 50.20\n",
      "Atış Sayısı: 2048 --- Yazı Olasılığı: 48.58\n",
      "Atış Sayısı: 4096 --- Yazı Olasılığı: 49.49\n",
      "Atış Sayısı: 8192 --- Yazı Olasılığı: 49.58\n",
      "Atış Sayısı: 16384 --- Yazı Olasılığı: 49.96\n",
      "Atış Sayısı: 32768 --- Yazı Olasılığı: 50.00\n",
      "Atış Sayısı: 65536 --- Yazı Olasılığı: 49.68\n",
      "Atış Sayısı: 131072 --- Yazı Olasılığı: 49.97\n",
      "Atış Sayısı: 262144 --- Yazı Olasılığı: 50.13\n",
      "Atış Sayısı: 524288 --- Yazı Olasılığı: 50.01\n",
      "Atış Sayısı: 1048576 --- Yazı Olasılığı: 50.09\n"
     ]
    }
   ],
   "source": [
    "#büyük sayılar yasası : bir rassal değişkenin uzun vadeli kararlılığını tanımlayan olasılık teoremi\n",
    "\n",
    "import numpy as np\n",
    "rng=np.random.RandomState(123)\n",
    "for i in np.arange(1,21):\n",
    "    deney_sayisi=2**i\n",
    "    yazi_turalar=rng.randint(0,2,size=deney_sayisi)\n",
    "    yazi_olasiliklari=np.mean(yazi_turalar)\n",
    "    print(\"Atış Sayısı:\" , deney_sayisi, \"---\", 'Yazı Olasılığı: %.2f' % (yazi_olasiliklari * 100))"
   ]
  },
  {
   "cell_type": "code",
   "execution_count": 22,
   "id": "3de2398d",
   "metadata": {
    "execution": {
     "iopub.execute_input": "2024-08-03T06:19:53.035871Z",
     "iopub.status.busy": "2024-08-03T06:19:53.035400Z",
     "iopub.status.idle": "2024-08-03T06:19:53.040923Z",
     "shell.execute_reply": "2024-08-03T06:19:53.039664Z"
    },
    "papermill": {
     "duration": 0.026463,
     "end_time": "2024-08-03T06:19:53.043810",
     "exception": false,
     "start_time": "2024-08-03T06:19:53.017347",
     "status": "completed"
    },
    "tags": []
   },
   "outputs": [],
   "source": [
    "#binom dağılımı : bağımsız n deneme sonucu k başarılı olma olasılığı ile ilgilenildiğinde kullanılan dağılımdır.\n",
    "#bir madeni para 4 kez atılıyor.\n",
    "#2  kere yazı gelmesi olasılığı nedir? gibi soruları bu dağılım ile buluruz."
   ]
  },
  {
   "cell_type": "code",
   "execution_count": 23,
   "id": "7078ed7f",
   "metadata": {
    "execution": {
     "iopub.execute_input": "2024-08-03T06:19:53.077119Z",
     "iopub.status.busy": "2024-08-03T06:19:53.075296Z",
     "iopub.status.idle": "2024-08-03T06:19:53.081421Z",
     "shell.execute_reply": "2024-08-03T06:19:53.080383Z"
    },
    "papermill": {
     "duration": 0.025738,
     "end_time": "2024-08-03T06:19:53.084367",
     "exception": false,
     "start_time": "2024-08-03T06:19:53.058629",
     "status": "completed"
    },
    "tags": []
   },
   "outputs": [],
   "source": [
    "from scipy.stats import binom "
   ]
  },
  {
   "cell_type": "code",
   "execution_count": 24,
   "id": "c37030b7",
   "metadata": {
    "execution": {
     "iopub.execute_input": "2024-08-03T06:19:53.116502Z",
     "iopub.status.busy": "2024-08-03T06:19:53.116082Z",
     "iopub.status.idle": "2024-08-03T06:19:53.125281Z",
     "shell.execute_reply": "2024-08-03T06:19:53.123983Z"
    },
    "papermill": {
     "duration": 0.029256,
     "end_time": "2024-08-03T06:19:53.128551",
     "exception": false,
     "start_time": "2024-08-03T06:19:53.099295",
     "status": "completed"
    },
    "tags": []
   },
   "outputs": [
    {
     "name": "stdout",
     "output_type": "stream",
     "text": [
      "0.36972963764972666\n",
      "0.002897787123761478\n",
      "7.006035693977194e-08\n"
     ]
    }
   ],
   "source": [
    "#örnek: bir reklamın tıklanma olasılığı 0.1 olsun\n",
    "#100 denemede bu reklamın 1,5 ve 10 kişi tarafından tıklanma olasılığı nedir?\n",
    "\n",
    "p=0.01\n",
    "n=100\n",
    "rv=binom(n,p)\n",
    "print(rv.pmf(1))\n",
    "print(rv.pmf(5))\n",
    "print(rv.pmf(10))"
   ]
  },
  {
   "cell_type": "code",
   "execution_count": 25,
   "id": "a237723e",
   "metadata": {
    "execution": {
     "iopub.execute_input": "2024-08-03T06:19:53.160766Z",
     "iopub.status.busy": "2024-08-03T06:19:53.159818Z",
     "iopub.status.idle": "2024-08-03T06:19:53.164953Z",
     "shell.execute_reply": "2024-08-03T06:19:53.163743Z"
    },
    "papermill": {
     "duration": 0.024233,
     "end_time": "2024-08-03T06:19:53.167573",
     "exception": false,
     "start_time": "2024-08-03T06:19:53.143340",
     "status": "completed"
    },
    "tags": []
   },
   "outputs": [],
   "source": [
    "#poisson dağılımı : belirli bir zaman aralığında belirli bir alanda nadiren rastlanılan olayların olasılığı . binom dağılımının özel bir halidir. rassal değişkenler 2 sonuçlku olmalıdır.\n",
    "\n"
   ]
  },
  {
   "cell_type": "code",
   "execution_count": 26,
   "id": "ea2ee175",
   "metadata": {
    "execution": {
     "iopub.execute_input": "2024-08-03T06:19:53.198941Z",
     "iopub.status.busy": "2024-08-03T06:19:53.198527Z",
     "iopub.status.idle": "2024-08-03T06:19:53.203870Z",
     "shell.execute_reply": "2024-08-03T06:19:53.202650Z"
    },
    "papermill": {
     "duration": 0.023842,
     "end_time": "2024-08-03T06:19:53.206287",
     "exception": false,
     "start_time": "2024-08-03T06:19:53.182445",
     "status": "completed"
    },
    "tags": []
   },
   "outputs": [],
   "source": [
    "from scipy.stats import poisson"
   ]
  },
  {
   "cell_type": "code",
   "execution_count": 27,
   "id": "2893bf3a",
   "metadata": {
    "execution": {
     "iopub.execute_input": "2024-08-03T06:19:53.238274Z",
     "iopub.status.busy": "2024-08-03T06:19:53.237022Z",
     "iopub.status.idle": "2024-08-03T06:19:53.242818Z",
     "shell.execute_reply": "2024-08-03T06:19:53.241682Z"
    },
    "papermill": {
     "duration": 0.0244,
     "end_time": "2024-08-03T06:19:53.245405",
     "exception": false,
     "start_time": "2024-08-03T06:19:53.221005",
     "status": "completed"
    },
    "tags": []
   },
   "outputs": [],
   "source": [
    "lambda_=0.1"
   ]
  },
  {
   "cell_type": "code",
   "execution_count": 28,
   "id": "61b8a14d",
   "metadata": {
    "execution": {
     "iopub.execute_input": "2024-08-03T06:19:53.276265Z",
     "iopub.status.busy": "2024-08-03T06:19:53.275862Z",
     "iopub.status.idle": "2024-08-03T06:19:53.285985Z",
     "shell.execute_reply": "2024-08-03T06:19:53.284791Z"
    },
    "papermill": {
     "duration": 0.0286,
     "end_time": "2024-08-03T06:19:53.288591",
     "exception": false,
     "start_time": "2024-08-03T06:19:53.259991",
     "status": "completed"
    },
    "tags": []
   },
   "outputs": [
    {
     "data": {
      "text/plain": [
       "0.09048374180359597"
      ]
     },
     "execution_count": 28,
     "metadata": {},
     "output_type": "execute_result"
    }
   ],
   "source": [
    "rv=poisson(mu=lambda_)\n",
    "rv.pmf(k=1) #k "
   ]
  },
  {
   "cell_type": "code",
   "execution_count": 29,
   "id": "f545ecf5",
   "metadata": {
    "execution": {
     "iopub.execute_input": "2024-08-03T06:19:53.321139Z",
     "iopub.status.busy": "2024-08-03T06:19:53.320718Z",
     "iopub.status.idle": "2024-08-03T06:19:53.327098Z",
     "shell.execute_reply": "2024-08-03T06:19:53.325651Z"
    },
    "papermill": {
     "duration": 0.026691,
     "end_time": "2024-08-03T06:19:53.330114",
     "exception": false,
     "start_time": "2024-08-03T06:19:53.303423",
     "status": "completed"
    },
    "tags": []
   },
   "outputs": [],
   "source": [
    "from scipy.stats import norm "
   ]
  },
  {
   "cell_type": "code",
   "execution_count": 30,
   "id": "b16b6ca0",
   "metadata": {
    "execution": {
     "iopub.execute_input": "2024-08-03T06:19:53.362199Z",
     "iopub.status.busy": "2024-08-03T06:19:53.361782Z",
     "iopub.status.idle": "2024-08-03T06:19:53.370787Z",
     "shell.execute_reply": "2024-08-03T06:19:53.369404Z"
    },
    "papermill": {
     "duration": 0.028153,
     "end_time": "2024-08-03T06:19:53.373639",
     "exception": false,
     "start_time": "2024-08-03T06:19:53.345486",
     "status": "completed"
    },
    "tags": []
   },
   "outputs": [
    {
     "data": {
      "text/plain": [
       "0.02275013194817921"
      ]
     },
     "execution_count": 30,
     "metadata": {},
     "output_type": "execute_result"
    }
   ],
   "source": [
    "#ortalamamız 80, standart sapmamız da 5 olsun. 90dan fazla olma ihtimalini bulalım:\n",
    "1-norm.cdf(90,80,5) #cumulatif density function : sürekli olduğu için bunu kullandık kesiklide pmf kullanıyoruz. "
   ]
  },
  {
   "cell_type": "code",
   "execution_count": 31,
   "id": "6b04d8a1",
   "metadata": {
    "execution": {
     "iopub.execute_input": "2024-08-03T06:19:53.406318Z",
     "iopub.status.busy": "2024-08-03T06:19:53.405897Z",
     "iopub.status.idle": "2024-08-03T06:19:53.415347Z",
     "shell.execute_reply": "2024-08-03T06:19:53.414060Z"
    },
    "papermill": {
     "duration": 0.028635,
     "end_time": "2024-08-03T06:19:53.418130",
     "exception": false,
     "start_time": "2024-08-03T06:19:53.389495",
     "status": "completed"
    },
    "tags": []
   },
   "outputs": [
    {
     "data": {
      "text/plain": [
       "0.08075665923377107"
      ]
     },
     "execution_count": 31,
     "metadata": {},
     "output_type": "execute_result"
    }
   ],
   "source": [
    "#73ten küçük olma durumuna bakalım \n",
    "norm.cdf(73,80,5) #burada birden çıkarmadık. çünkü grafiğe baktığımızda fazla olan kısımları birden çıkarıp buluyoruz. burası biraz detay sonra tekrar bak."
   ]
  },
  {
   "cell_type": "code",
   "execution_count": 32,
   "id": "d8d4fced",
   "metadata": {
    "execution": {
     "iopub.execute_input": "2024-08-03T06:19:53.451964Z",
     "iopub.status.busy": "2024-08-03T06:19:53.451004Z",
     "iopub.status.idle": "2024-08-03T06:19:53.460520Z",
     "shell.execute_reply": "2024-08-03T06:19:53.459328Z"
    },
    "papermill": {
     "duration": 0.030191,
     "end_time": "2024-08-03T06:19:53.463676",
     "exception": false,
     "start_time": "2024-08-03T06:19:53.433485",
     "status": "completed"
    },
    "tags": []
   },
   "outputs": [
    {
     "data": {
      "text/plain": [
       "0.13590512198327787"
      ]
     },
     "execution_count": 32,
     "metadata": {},
     "output_type": "execute_result"
    }
   ],
   "source": [
    "#85-90 arasında olma durumu \n",
    "norm.cdf(90,80,5)-norm.cdf(85,80,5)"
   ]
  },
  {
   "cell_type": "code",
   "execution_count": 33,
   "id": "80d76fbe",
   "metadata": {
    "execution": {
     "iopub.execute_input": "2024-08-03T06:19:53.497723Z",
     "iopub.status.busy": "2024-08-03T06:19:53.497144Z",
     "iopub.status.idle": "2024-08-03T06:19:53.502984Z",
     "shell.execute_reply": "2024-08-03T06:19:53.501718Z"
    },
    "papermill": {
     "duration": 0.026625,
     "end_time": "2024-08-03T06:19:53.505756",
     "exception": false,
     "start_time": "2024-08-03T06:19:53.479131",
     "status": "completed"
    },
    "tags": []
   },
   "outputs": [],
   "source": [
    "#tek örneklem testi: populasyon ortalaması ile varsayımsal bir değer arasında istatistiksel olarak anlamlı bir fark olup olmadığını test etmek için kullanılan \n",
    "#parametrik bir testtir."
   ]
  },
  {
   "cell_type": "code",
   "execution_count": null,
   "id": "9b30e72d",
   "metadata": {
    "papermill": {
     "duration": 0.015069,
     "end_time": "2024-08-03T06:19:53.536457",
     "exception": false,
     "start_time": "2024-08-03T06:19:53.521388",
     "status": "completed"
    },
    "tags": []
   },
   "outputs": [],
   "source": []
  }
 ],
 "metadata": {
  "kaggle": {
   "accelerator": "none",
   "dataSources": [],
   "dockerImageVersionId": 30746,
   "isGpuEnabled": false,
   "isInternetEnabled": true,
   "language": "python",
   "sourceType": "notebook"
  },
  "kernelspec": {
   "display_name": "Python 3",
   "language": "python",
   "name": "python3"
  },
  "language_info": {
   "codemirror_mode": {
    "name": "ipython",
    "version": 3
   },
   "file_extension": ".py",
   "mimetype": "text/x-python",
   "name": "python",
   "nbconvert_exporter": "python",
   "pygments_lexer": "ipython3",
   "version": "3.10.13"
  },
  "papermill": {
   "default_parameters": {},
   "duration": 26.542873,
   "end_time": "2024-08-03T06:19:54.275751",
   "environment_variables": {},
   "exception": null,
   "input_path": "__notebook__.ipynb",
   "output_path": "__notebook__.ipynb",
   "parameters": {},
   "start_time": "2024-08-03T06:19:27.732878",
   "version": "2.5.0"
  }
 },
 "nbformat": 4,
 "nbformat_minor": 5
}
